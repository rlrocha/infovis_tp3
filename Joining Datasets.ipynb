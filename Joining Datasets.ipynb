{
 "cells": [
  {
   "cell_type": "code",
   "execution_count": 1,
   "id": "c18df6e2-ac5a-4197-9216-f0b6d9e58e56",
   "metadata": {},
   "outputs": [],
   "source": [
    "import pandas as pd\n",
    "import altair as alt\n",
    "from datetime import datetime\n",
    "from pprint import pprint"
   ]
  },
  {
   "cell_type": "code",
   "execution_count": 2,
   "id": "99722688-fdcb-4b53-9380-0d0ba2bc0c48",
   "metadata": {},
   "outputs": [],
   "source": [
    "# https://vita.had.co.nz/papers/tidy-data.pdf\n",
    "\n",
    "cc_data = pd.read_csv(\"datasets/cc_data.csv\")\n",
    "cc_data[\"timestamp\"] = pd.to_datetime(cc_data[\"timestamp\"])\n",
    "lt_data = pd.read_csv(\"datasets/loyalty_data.csv\")\n",
    "lt_data[\"timestamp\"] = pd.to_datetime(lt_data[\"timestamp\"])"
   ]
  },
  {
   "cell_type": "code",
   "execution_count": 3,
   "id": "5bc10388-3512-4d74-ae5b-eebf2f841162",
   "metadata": {},
   "outputs": [
    {
     "data": {
      "text/plain": [
       "(Index(['timestamp', 'location', 'price', 'last4ccnum'], dtype='object'),\n",
       " Index(['timestamp', 'location', 'price', 'loyaltynum'], dtype='object'))"
      ]
     },
     "execution_count": 3,
     "metadata": {},
     "output_type": "execute_result"
    }
   ],
   "source": [
    "cc_data.columns, lt_data.columns"
   ]
  },
  {
   "cell_type": "code",
   "execution_count": 4,
   "id": "d9c22f53-7268-449d-8ca5-319bc528ebfc",
   "metadata": {},
   "outputs": [],
   "source": [
    "cc_num, lt_num = list(cc_data[\"last4ccnum\"]), list(lt_data[\"loyaltynum\"])\n",
    "cc_timestamp, lt_timestamp = list(cc_data[\"timestamp\"].dt.date), list(lt_data[\"timestamp\"].dt.date)\n",
    "cc_location, lt_location = list(cc_data[\"location\"]), list(lt_data[\"location\"])\n",
    "cc_price, lt_price = list(cc_data[\"price\"]), list(lt_data[\"price\"])"
   ]
  },
  {
   "cell_type": "code",
   "execution_count": 5,
   "id": "f4810bc6-84e2-4882-a27c-10a336c8636c",
   "metadata": {},
   "outputs": [],
   "source": [
    "keys_num_cc = {}\n",
    "keys_num_lt = {}\n",
    "keys_cc = []\n",
    "keys_lt = []\n",
    "for c in range(len(cc_timestamp)):\n",
    "    for l in range(len(lt_timestamp)):\n",
    "        if (cc_timestamp[c] == lt_timestamp[l]) and (cc_location[c] == lt_location[l]) and (cc_price[c] == lt_price[l]):\n",
    "            keys_cc.append(c)\n",
    "            keys_lt.append(l)\n",
    "            keys_num_cc[str(cc_num[c])] = lt_num[l]\n",
    "            keys_num_lt[str(lt_num[l])] = cc_num[c]"
   ]
  },
  {
   "cell_type": "code",
   "execution_count": 6,
   "id": "62dc44ee-a61c-4b1e-bafd-a9b17e91d78e",
   "metadata": {},
   "outputs": [],
   "source": [
    "cc_copy = cc_data.copy()\n",
    "lt_copy = lt_data.copy()"
   ]
  },
  {
   "cell_type": "code",
   "execution_count": 7,
   "id": "c7c9c5e4-62d6-4bb9-b413-c3baecaf4961",
   "metadata": {},
   "outputs": [],
   "source": [
    "cc_dropped = cc_copy.drop(keys_cc)\n",
    "not_keys_cc = list(cc_dropped.reset_index()[\"index\"])\n",
    "lt_dropped = lt_copy.drop(keys_lt)\n",
    "not_keys_lt = list(lt_dropped.reset_index()[\"index\"])\n",
    "\n",
    "cc_copy.loc[keys_cc,\"link\"] = \"both\"\n",
    "cc_copy.loc[not_keys_cc,\"link\"] = \"credit\"\n",
    "\n",
    "lt_copy.loc[not_keys_lt, \"link\"] = \"loyalty\"\n",
    "cc_copy[\"loyaltynum\"] = \"\"\n",
    "cc_copy[\"loyaltynum\"] = cc_copy[\"last4ccnum\"].map(lambda x : keys_num_cc[str(x)])\n",
    "\n",
    "cc_copy = cc_copy.append(lt_copy.iloc[not_keys_lt])\n",
    "cc_copy = cc_copy.reset_index()\n",
    "\n",
    "cc_copy[\"last4ccnum\"] = cc_copy[\"loyaltynum\"].map(lambda x : keys_num_lt[str(x)])"
   ]
  },
  {
   "cell_type": "code",
   "execution_count": 8,
   "id": "cad90664-74f2-42e6-a760-ba742f8ee01c",
   "metadata": {},
   "outputs": [],
   "source": [
    "cc_copy = cc_copy.drop(columns=[\"index\"])"
   ]
  },
  {
   "cell_type": "code",
   "execution_count": 9,
   "id": "f4f88c47-4342-410f-93e3-f470d63d2151",
   "metadata": {},
   "outputs": [],
   "source": [
    "cc_copy.to_csv(\"datasets/linked.csv\", index=False)"
   ]
  },
  {
   "cell_type": "code",
   "execution_count": null,
   "id": "ffdd2b1e-5550-4adc-9a49-c1962f423030",
   "metadata": {},
   "outputs": [],
   "source": []
  }
 ],
 "metadata": {
  "kernelspec": {
   "display_name": "Python 3",
   "language": "python",
   "name": "python3"
  },
  "language_info": {
   "codemirror_mode": {
    "name": "ipython",
    "version": 3
   },
   "file_extension": ".py",
   "mimetype": "text/x-python",
   "name": "python",
   "nbconvert_exporter": "python",
   "pygments_lexer": "ipython3",
   "version": "3.8.10"
  }
 },
 "nbformat": 4,
 "nbformat_minor": 5
}
